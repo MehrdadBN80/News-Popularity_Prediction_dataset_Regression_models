{
 "cells": [
  {
   "cell_type": "markdown",
   "id": "f8aee1c8",
   "metadata": {},
   "source": [
    "## Mehrdad Baradaran (99222020)\n",
    "### Machine Learnin"
   ]
  },
  {
   "cell_type": "markdown",
   "id": "9a17d590",
   "metadata": {},
   "source": [
    "# Goal\n",
    "\n",
    "#### implement a regression model using the Scikit-Learn package to predict the popularity of new\n",
    "#### articles on News Popularity Prediction dataset"
   ]
  },
  {
   "cell_type": "markdown",
   "id": "c8e9b3fe",
   "metadata": {},
   "source": [
    "# Import needed Libraries"
   ]
  },
  {
   "cell_type": "code",
   "execution_count": 1,
   "id": "8cb9057e",
   "metadata": {},
   "outputs": [],
   "source": [
    "import numpy as np\n",
    "import pandas as pd\n",
    "from sklearn import preprocessing\n",
    "from scipy.stats import pearsonr\n",
    "from sklearn.model_selection import train_test_split\n",
    "from sklearn.linear_model import LinearRegression\n",
    "import seaborn as sns\n",
    "from sklearn.linear_model import Ridge, Lasso\n",
    "from sklearn.preprocessing import StandardScaler\n",
    "import scipy.stats as stats\n",
    "from sklearn.metrics import mean_squared_error, r2_score\n",
    "import matplotlib.pyplot as plt"
   ]
  },
  {
   "cell_type": "markdown",
   "id": "574e7ad1",
   "metadata": {},
   "source": [
    "# Load dataset"
   ]
  },
  {
   "cell_type": "code",
   "execution_count": 2,
   "id": "fde9bc92",
   "metadata": {},
   "outputs": [
    {
     "data": {
      "text/plain": [
       "Index(['url', ' timedelta', ' n_tokens_title', ' n_tokens_content',\n",
       "       ' n_unique_tokens', ' n_non_stop_words', ' n_non_stop_unique_tokens',\n",
       "       ' num_hrefs', ' num_self_hrefs', ' num_imgs', ' num_videos',\n",
       "       ' average_token_length', ' num_keywords', ' data_channel_is_lifestyle',\n",
       "       ' data_channel_is_entertainment', ' data_channel_is_bus',\n",
       "       ' data_channel_is_socmed', ' data_channel_is_tech',\n",
       "       ' data_channel_is_world', ' kw_min_min', ' kw_max_min', ' kw_avg_min',\n",
       "       ' kw_min_max', ' kw_max_max', ' kw_avg_max', ' kw_min_avg',\n",
       "       ' kw_max_avg', ' kw_avg_avg', ' self_reference_min_shares',\n",
       "       ' self_reference_max_shares', ' self_reference_avg_sharess',\n",
       "       ' weekday_is_monday', ' weekday_is_tuesday', ' weekday_is_wednesday',\n",
       "       ' weekday_is_thursday', ' weekday_is_friday', ' weekday_is_saturday',\n",
       "       ' weekday_is_sunday', ' is_weekend', ' LDA_00', ' LDA_01', ' LDA_02',\n",
       "       ' LDA_03', ' LDA_04', ' global_subjectivity',\n",
       "       ' global_sentiment_polarity', ' global_rate_positive_words',\n",
       "       ' global_rate_negative_words', ' rate_positive_words',\n",
       "       ' rate_negative_words', ' avg_positive_polarity',\n",
       "       ' min_positive_polarity', ' max_positive_polarity',\n",
       "       ' avg_negative_polarity', ' min_negative_polarity',\n",
       "       ' max_negative_polarity', ' title_subjectivity',\n",
       "       ' title_sentiment_polarity', ' abs_title_subjectivity',\n",
       "       ' abs_title_sentiment_polarity', ' shares'],\n",
       "      dtype='object')"
      ]
     },
     "execution_count": 2,
     "metadata": {},
     "output_type": "execute_result"
    }
   ],
   "source": [
    "data = pd.read_csv('OnlineNewsPopularity.csv')\n",
    "data.keys()"
   ]
  },
  {
   "cell_type": "markdown",
   "id": "5d11b6ba",
   "metadata": {},
   "source": [
    "# Check for missing values"
   ]
  },
  {
   "cell_type": "code",
   "execution_count": 3,
   "id": "b5ea6d7b",
   "metadata": {},
   "outputs": [
    {
     "name": "stdout",
     "output_type": "stream",
     "text": [
      "Missing values: 0\n"
     ]
    }
   ],
   "source": [
    "print(\"Missing values:\", data.isnull().sum().sum())"
   ]
  },
  {
   "cell_type": "markdown",
   "id": "faed99c1",
   "metadata": {},
   "source": [
    "# Summary statistics"
   ]
  },
  {
   "cell_type": "code",
   "execution_count": 4,
   "id": "7f9c6e39",
   "metadata": {},
   "outputs": [
    {
     "name": "stdout",
     "output_type": "stream",
     "text": [
      "          timedelta   n_tokens_title   n_tokens_content   n_unique_tokens  \\\n",
      "count  39644.000000     39644.000000       39644.000000      39644.000000   \n",
      "mean     354.530471        10.398749         546.514731          0.548216   \n",
      "std      214.163767         2.114037         471.107508          3.520708   \n",
      "min        8.000000         2.000000           0.000000          0.000000   \n",
      "25%      164.000000         9.000000         246.000000          0.470870   \n",
      "50%      339.000000        10.000000         409.000000          0.539226   \n",
      "75%      542.000000        12.000000         716.000000          0.608696   \n",
      "max      731.000000        23.000000        8474.000000        701.000000   \n",
      "\n",
      "        n_non_stop_words   n_non_stop_unique_tokens     num_hrefs  \\\n",
      "count       39644.000000               39644.000000  39644.000000   \n",
      "mean            0.996469                   0.689175     10.883690   \n",
      "std             5.231231                   3.264816     11.332017   \n",
      "min             0.000000                   0.000000      0.000000   \n",
      "25%             1.000000                   0.625739      4.000000   \n",
      "50%             1.000000                   0.690476      8.000000   \n",
      "75%             1.000000                   0.754630     14.000000   \n",
      "max          1042.000000                 650.000000    304.000000   \n",
      "\n",
      "        num_self_hrefs      num_imgs    num_videos  ...  \\\n",
      "count     39644.000000  39644.000000  39644.000000  ...   \n",
      "mean          3.293638      4.544143      1.249874  ...   \n",
      "std           3.855141      8.309434      4.107855  ...   \n",
      "min           0.000000      0.000000      0.000000  ...   \n",
      "25%           1.000000      1.000000      0.000000  ...   \n",
      "50%           3.000000      1.000000      0.000000  ...   \n",
      "75%           4.000000      4.000000      1.000000  ...   \n",
      "max         116.000000    128.000000     91.000000  ...   \n",
      "\n",
      "        min_positive_polarity   max_positive_polarity   avg_negative_polarity  \\\n",
      "count            39644.000000            39644.000000            39644.000000   \n",
      "mean                 0.095446                0.756728               -0.259524   \n",
      "std                  0.071315                0.247786                0.127726   \n",
      "min                  0.000000                0.000000               -1.000000   \n",
      "25%                  0.050000                0.600000               -0.328383   \n",
      "50%                  0.100000                0.800000               -0.253333   \n",
      "75%                  0.100000                1.000000               -0.186905   \n",
      "max                  1.000000                1.000000                0.000000   \n",
      "\n",
      "        min_negative_polarity   max_negative_polarity   title_subjectivity  \\\n",
      "count            39644.000000            39644.000000         39644.000000   \n",
      "mean                -0.521944               -0.107500             0.282353   \n",
      "std                  0.290290                0.095373             0.324247   \n",
      "min                 -1.000000               -1.000000             0.000000   \n",
      "25%                 -0.700000               -0.125000             0.000000   \n",
      "50%                 -0.500000               -0.100000             0.150000   \n",
      "75%                 -0.300000               -0.050000             0.500000   \n",
      "max                  0.000000                0.000000             1.000000   \n",
      "\n",
      "        title_sentiment_polarity   abs_title_subjectivity  \\\n",
      "count               39644.000000             39644.000000   \n",
      "mean                    0.071425                 0.341843   \n",
      "std                     0.265450                 0.188791   \n",
      "min                    -1.000000                 0.000000   \n",
      "25%                     0.000000                 0.166667   \n",
      "50%                     0.000000                 0.500000   \n",
      "75%                     0.150000                 0.500000   \n",
      "max                     1.000000                 0.500000   \n",
      "\n",
      "        abs_title_sentiment_polarity         shares  \n",
      "count                   39644.000000   39644.000000  \n",
      "mean                        0.156064    3395.380184  \n",
      "std                         0.226294   11626.950749  \n",
      "min                         0.000000       1.000000  \n",
      "25%                         0.000000     946.000000  \n",
      "50%                         0.000000    1400.000000  \n",
      "75%                         0.250000    2800.000000  \n",
      "max                         1.000000  843300.000000  \n",
      "\n",
      "[8 rows x 60 columns]\n"
     ]
    }
   ],
   "source": [
    "print(data.describe())"
   ]
  },
  {
   "cell_type": "markdown",
   "id": "72936467",
   "metadata": {},
   "source": [
    "# Visualizations"
   ]
  },
  {
   "cell_type": "code",
   "execution_count": 5,
   "id": "f3dfaf87",
   "metadata": {},
   "outputs": [
    {
     "data": {
      "image/png": "[encoded data removed]",
      "text/plain": [
       "<Figure size 1152x360 with 4 Axes>"
      ]
     },
     "metadata": {
      "needs_background": "light"
     },
     "output_type": "display_data"
    },
    {
     "data": {
      "image/png": "[encoded data removed]",
      "text/plain": [
       "<Figure size 432x288 with 1 Axes>"
      ]
     },
     "metadata": {
      "needs_background": "light"
     },
     "output_type": "display_data"
    }
   ],
   "source": [
    "sns.pairplot(data, x_vars=[' timedelta', ' n_tokens_title', ' n_tokens_content', ' n_unique_tokens'],\n",
    "             y_vars=[\" shares\"], height=5, aspect=0.8)\n",
    "plt.show()\n",
    "\n",
    "sns.boxplot(x=data[\" shares\"])\n",
    "plt.show()"
   ]
  },
  {
   "cell_type": "markdown",
   "id": "4a89701b",
   "metadata": {},
   "source": [
    "# Feature engineering"
   ]
  },
  {
   "cell_type": "code",
   "execution_count": 6,
   "id": "59cdc397",
   "metadata": {},
   "outputs": [],
   "source": [
    "data[\" n_tokens_title_squared\"] = data[\" n_tokens_title\"] ** 2\n",
    "data[\" n_tokens_content_squared\"] = data[\" n_tokens_content\"] ** 2\n",
    "data[\" n_unique_tokens_squared\"] = data[\" n_unique_tokens\"] ** 2"
   ]
  },
  {
   "cell_type": "markdown",
   "id": "b87d5a49",
   "metadata": {},
   "source": [
    "\n",
    "# Correlation analysis"
   ]
  },
  {
   "cell_type": "code",
   "execution_count": 7,
   "id": "14156cbc",
   "metadata": {},
   "outputs": [
    {
     "name": "stdout",
     "output_type": "stream",
     "text": [
      " shares                        1.000000\n",
      " kw_avg_avg                    0.110413\n",
      " LDA_03                        0.083771\n",
      " kw_max_avg                    0.064306\n",
      " self_reference_avg_sharess    0.057789\n",
      "                                 ...   \n",
      " max_negative_polarity        -0.019300\n",
      " average_token_length         -0.022007\n",
      " avg_negative_polarity        -0.032029\n",
      " data_channel_is_world        -0.049497\n",
      " LDA_02                       -0.059163\n",
      "Name:  shares, Length: 63, dtype: float64\n"
     ]
    }
   ],
   "source": [
    "corr_matrix = data.corr()\n",
    "corr_shares = corr_matrix[\" shares\"].sort_values(ascending=False)\n",
    "print(corr_shares)"
   ]
  },
  {
   "cell_type": "markdown",
   "id": "c6a373df",
   "metadata": {},
   "source": [
    "# Outlier detection"
   ]
  },
  {
   "cell_type": "code",
   "execution_count": 8,
   "id": "2b0a2c69",
   "metadata": {},
   "outputs": [
    {
     "name": "stdout",
     "output_type": "stream",
     "text": [
      "Number of outliers: 4541\n"
     ]
    }
   ],
   "source": [
    "Q1 = data[\" shares\"].quantile(0.25)\n",
    "Q3 = data[\" shares\"].quantile(0.75)\n",
    "IQR = Q3 - Q1\n",
    "print(\"Number of outliers:\", len(data[(data[' shares'] < Q1 - 1.5 * IQR) | (data[' shares'] > Q3 + 1.5 * IQR)]))\n"
   ]
  },
  {
   "cell_type": "markdown",
   "id": "2d34eb4a",
   "metadata": {},
   "source": [
    "# Dimensionality reduction"
   ]
  },
  {
   "cell_type": "code",
   "execution_count": 9,
   "id": "206988cc",
   "metadata": {},
   "outputs": [],
   "source": [
    "from sklearn.decomposition import PCA"
   ]
  },
  {
   "cell_type": "code",
   "execution_count": 10,
   "id": "11dc36e7",
   "metadata": {},
   "outputs": [],
   "source": [
    "numeric_data = data.select_dtypes(include=np.number)"
   ]
  },
  {
   "cell_type": "code",
   "execution_count": 11,
   "id": "0957ec25",
   "metadata": {},
   "outputs": [
    {
     "data": {
      "image/png": "[encoded data removed]",
      "text/plain": [
       "<Figure size 432x288 with 1 Axes>"
      ]
     },
     "metadata": {
      "needs_background": "light"
     },
     "output_type": "display_data"
    }
   ],
   "source": [
    "pca = PCA(n_components=2)\n",
    "X_reduced = pca.fit_transform(numeric_data.drop(\" shares\", axis=1))\n",
    "plt.scatter(X_reduced[:, 0], X_reduced[:, 1], c=numeric_data[\" shares\"])\n",
    "plt.show()"
   ]
  },
  {
   "cell_type": "markdown",
   "id": "cbffa569",
   "metadata": {},
   "source": [
    "# Preprocess the data"
   ]
  },
  {
   "cell_type": "code",
   "execution_count": 12,
   "id": "e602198f",
   "metadata": {},
   "outputs": [],
   "source": [
    "X = data.iloc[:, 2:-1]\n",
    "y = data.iloc[:, -1]\n",
    "X_train, X_test, y_train, y_test = train_test_split(X, y, test_size=0.2, random_state=42)"
   ]
  },
  {
   "cell_type": "markdown",
   "id": "474c1a61",
   "metadata": {},
   "source": [
    "# Train a linear regression model"
   ]
  },
  {
   "cell_type": "code",
   "execution_count": 13,
   "id": "76604195",
   "metadata": {},
   "outputs": [
    {
     "data": {
      "text/plain": [
       "LinearRegression()"
      ]
     },
     "execution_count": 13,
     "metadata": {},
     "output_type": "execute_result"
    }
   ],
   "source": [
    "model = LinearRegression()\n",
    "model.fit(X_train, y_train)"
   ]
  },
  {
   "cell_type": "markdown",
   "id": "5af3db7e",
   "metadata": {},
   "source": [
    "# Evaluate the model on the testing set"
   ]
  },
  {
   "cell_type": "code",
   "execution_count": 14,
   "id": "f0f03e67",
   "metadata": {},
   "outputs": [
    {
     "name": "stdout",
     "output_type": "stream",
     "text": [
      "MSE: 0.00014243059509448376\n"
     ]
    }
   ],
   "source": [
    "y_pred = model.predict(X_test)\n",
    "mse = mean_squared_error(y_test, y_pred)\n",
    "print('MSE:', mse)"
   ]
  },
  {
   "cell_type": "markdown",
   "id": "d6e24cb5",
   "metadata": {},
   "source": [
    "# Plotting"
   ]
  },
  {
   "cell_type": "code",
   "execution_count": 15,
   "id": "1075d16e",
   "metadata": {},
   "outputs": [
    {
     "data": {
      "image/png": "[encoded data removed]",
      "text/plain": [
       "<Figure size 432x288 with 1 Axes>"
      ]
     },
     "metadata": {
      "needs_background": "light"
     },
     "output_type": "display_data"
    }
   ],
   "source": [
    "plt.scatter(y_test, y_pred)\n",
    "plt.xlabel('Actual Shares')\n",
    "plt.ylabel('Predicted Shares')\n",
    "plt.show()"
   ]
  },
  {
   "cell_type": "markdown",
   "id": "5c47be08",
   "metadata": {},
   "source": [
    "# Hypothesis Test 1"
   ]
  },
  {
   "cell_type": "code",
   "execution_count": 16,
   "id": "2c46e44f",
   "metadata": {},
   "outputs": [
    {
     "name": "stdout",
     "output_type": "stream",
     "text": [
      "Hypothesis Test 1: Short Title vs Long Title Shares\n",
      "t-value: -0.660, p-value: 0.509\n"
     ]
    }
   ],
   "source": [
    "short_title_shares = data[data[' n_tokens_title'] < 10][' shares']\n",
    "long_title_shares = data[data[' n_tokens_title'] >= 10][' shares']\n",
    "t, p = stats.ttest_ind(short_title_shares, long_title_shares)\n",
    "print(\"Hypothesis Test 1: Short Title vs Long Title Shares\")\n",
    "print(\"t-value: %.3f, p-value: %.3f\" % (t, p))\n"
   ]
  },
  {
   "cell_type": "markdown",
   "id": "bbabab9d",
   "metadata": {},
   "source": [
    "# Hypothesis Test 2"
   ]
  },
  {
   "cell_type": "code",
   "execution_count": 17,
   "id": "905f801b",
   "metadata": {},
   "outputs": [
    {
     "name": "stdout",
     "output_type": "stream",
     "text": [
      "t-statistic: -0.8162656022652125\n",
      "p-value: 0.41439553548202757\n"
     ]
    }
   ],
   "source": [
    "positive_shares = data[data[' global_sentiment_polarity']>0][' shares']\n",
    "negative_shares = data[data[' global_sentiment_polarity']<0][' shares']\n",
    "\n",
    "t_stat, p_val = stats.ttest_ind(positive_shares, negative_shares, equal_var=False)\n",
    "\n",
    "print(f\"t-statistic: {t_stat}\")\n",
    "print(f\"p-value: {p_val}\")"
   ]
  },
  {
   "cell_type": "markdown",
   "id": "a6da1633",
   "metadata": {},
   "source": [
    "\n",
    "# Hypothesis Test 3"
   ]
  },
  {
   "cell_type": "code",
   "execution_count": 18,
   "id": "0c236000",
   "metadata": {},
   "outputs": [
    {
     "name": "stdout",
     "output_type": "stream",
     "text": [
      "Hypothesis Test 3: Image vs No Image Shares\n",
      "t-value: -7.930, p-value: 0.000\n"
     ]
    }
   ],
   "source": [
    "image_shares = data[data[' num_imgs'] > 0][' shares']\n",
    "no_image_shares = data[data[' num_imgs'] == 0][' shares']\n",
    "t, p = stats.ttest_ind(image_shares, no_image_shares)\n",
    "print(\"Hypothesis Test 3: Image vs No Image Shares\")\n",
    "print(\"t-value: %.3f, p-value: %.3f\" % (t, p))"
   ]
  },
  {
   "cell_type": "markdown",
   "id": "3ae5a0e9",
   "metadata": {},
   "source": [
    "# Hypothesis Test 4"
   ]
  },
  {
   "cell_type": "code",
   "execution_count": 19,
   "id": "8e0083e6",
   "metadata": {},
   "outputs": [
    {
     "name": "stdout",
     "output_type": "stream",
     "text": [
      "Correlation between article title length and number of shares: 0.008783118841819015\n",
      "Null hypothesis cannot be rejected. The length of the article title does not have a significant effect on the number of shares.\n"
     ]
    }
   ],
   "source": [
    "corr, p_value = pearsonr(data[\" n_tokens_title\"], data[\" shares\"])\n",
    "print(\"Correlation between article title length and number of shares:\", corr)\n",
    "if p_value < 0.05:\n",
    "    print(\"Null hypothesis rejected. The length of the article title has a significant effect on the number of shares.\")\n",
    "else:\n",
    "    print(\"Null hypothesis cannot be rejected. The length of the article title does not have a significant effect on the number of shares.\")\n"
   ]
  },
  {
   "cell_type": "markdown",
   "id": "cfd8fbfc",
   "metadata": {},
   "source": [
    "# Perform Ridge regression"
   ]
  },
  {
   "cell_type": "code",
   "execution_count": 20,
   "id": "1f527739",
   "metadata": {},
   "outputs": [
    {
     "name": "stdout",
     "output_type": "stream",
     "text": [
      "Ridge regression MSE: 51.61287452130276\n"
     ]
    },
    {
     "name": "stderr",
     "output_type": "stream",
     "text": [
      "C:\\Users\\LENOVO\\anaconda3\\lib\\site-packages\\sklearn\\linear_model\\_ridge.py:147: LinAlgWarning: Ill-conditioned matrix (rcond=1.48048e-17): result may not be accurate.\n",
      "  return linalg.solve(A, Xy, sym_pos=True,\n"
     ]
    }
   ],
   "source": [
    "ridge = Ridge(alpha=1)\n",
    "ridge.fit(X_train, y_train)\n",
    "y_pred = ridge.predict(X_test)\n",
    "print(\"Ridge regression MSE:\", mean_squared_error(y_test, y_pred))"
   ]
  },
  {
   "cell_type": "markdown",
   "id": "8572ab80",
   "metadata": {},
   "source": [
    "# Perform Lasso regression\n"
   ]
  },
  {
   "cell_type": "code",
   "execution_count": 30,
   "id": "79769f81",
   "metadata": {},
   "outputs": [
    {
     "name": "stdout",
     "output_type": "stream",
     "text": [
      "Lasso regression MSE: 1090.805960341564\n"
     ]
    }
   ],
   "source": [
    "lasso = Lasso(alpha=0.01)\n",
    "lasso.fit(X_train, y_train)\n",
    "y_pred = lasso.predict(X_test)\n",
    "print(\"Lasso regression MSE:\", mean_squared_error(y_test, y_pred))"
   ]
  },
  {
   "cell_type": "markdown",
   "id": "6c8728ee",
   "metadata": {},
   "source": [
    "# Create a dictionary of scaling methods"
   ]
  },
  {
   "cell_type": "code",
   "execution_count": 22,
   "id": "2a26bc4c",
   "metadata": {},
   "outputs": [],
   "source": [
    "from sklearn.preprocessing import StandardScaler, MinMaxScaler, RobustScaler, MaxAbsScaler"
   ]
  },
  {
   "cell_type": "code",
   "execution_count": 31,
   "id": "aba17c16",
   "metadata": {},
   "outputs": [
    {
     "name": "stdout",
     "output_type": "stream",
     "text": [
      "standard scaling - MSE: 78.44440245\n",
      "minmax scaling - MSE: 6668.80037760\n",
      "robust scaling - MSE: 53.18462633\n",
      "maxabs scaling - MSE: 6668.73916478\n"
     ]
    },
    {
     "name": "stderr",
     "output_type": "stream",
     "text": [
      "C:\\Users\\LENOVO\\anaconda3\\lib\\site-packages\\sklearn\\linear_model\\_ridge.py:147: LinAlgWarning: Ill-conditioned matrix (rcond=1.37854e-23): result may not be accurate.\n",
      "  return linalg.solve(A, Xy, sym_pos=True,\n"
     ]
    }
   ],
   "source": [
    "scalers = {\n",
    "    'standard': StandardScaler(),\n",
    "    'minmax': MinMaxScaler(),\n",
    "    'robust': RobustScaler(),\n",
    "    'maxabs': MaxAbsScaler()\n",
    "}\n",
    "\n",
    "# Loop through each scaling method and fit the ridge_model\n",
    "for scaler_name, scaler in scalers.items():\n",
    "    X_train_scaled = scaler.fit_transform(X_train)\n",
    "    X_test_scaled = scaler.transform(X_test)\n",
    "    ridge = Ridge(alpha=1)\n",
    "    ridge.fit(X_train_scaled, y_train)\n",
    "    y_pred = ridge.predict(X_test_scaled)\n",
    "    mse = mean_squared_error(y_test, y_pred)\n",
    "    print(f\"{scaler_name} scaling - MSE: {mse:.8f}\")\n",
    "\n"
   ]
  },
  {
   "cell_type": "code",
   "execution_count": 32,
   "id": "3836a9cb",
   "metadata": {},
   "outputs": [
    {
     "name": "stdout",
     "output_type": "stream",
     "text": [
      "standard scaling - MSE: 1090.91076801\n"
     ]
    },
    {
     "name": "stderr",
     "output_type": "stream",
     "text": [
      "C:\\Users\\LENOVO\\anaconda3\\lib\\site-packages\\sklearn\\linear_model\\_coordinate_descent.py:530: ConvergenceWarning: Objective did not converge. You might want to increase the number of iterations. Duality gap: 37821757.63292484, tolerance: 24146703.494089007\n",
      "  model = cd_fast.enet_coordinate_descent(\n"
     ]
    },
    {
     "name": "stdout",
     "output_type": "stream",
     "text": [
      "minmax scaling - MSE: 1123.47598740\n",
      "robust scaling - MSE: 1089.47612110\n",
      "maxabs scaling - MSE: 1123.28136278\n"
     ]
    },
    {
     "name": "stderr",
     "output_type": "stream",
     "text": [
      "C:\\Users\\LENOVO\\anaconda3\\lib\\site-packages\\sklearn\\linear_model\\_coordinate_descent.py:530: ConvergenceWarning: Objective did not converge. You might want to increase the number of iterations. Duality gap: 37816748.0514465, tolerance: 24146703.494089007\n",
      "  model = cd_fast.enet_coordinate_descent(\n"
     ]
    }
   ],
   "source": [
    "for scaler_name, scaler in scalers.items():\n",
    "    X_train_scaled = scaler.fit_transform(X_train)\n",
    "    X_test_scaled = scaler.transform(X_test)\n",
    "    lasso = Lasso(alpha=0.01)\n",
    "    lasso.fit(X_train_scaled, y_train)\n",
    "    y_pred = lasso.predict(X_test_scaled)\n",
    "    mse = mean_squared_error(y_test, y_pred)\n",
    "    print(f\"{scaler_name} scaling - MSE: {mse:.8f}\")"
   ]
  },
  {
   "cell_type": "markdown",
   "id": "b23c6ec7",
   "metadata": {},
   "source": [
    "# Create PolynomialFeatures object"
   ]
  },
  {
   "cell_type": "code",
   "execution_count": 33,
   "id": "360314bb",
   "metadata": {},
   "outputs": [],
   "source": [
    "from sklearn.preprocessing import PolynomialFeatures"
   ]
  },
  {
   "cell_type": "code",
   "execution_count": 34,
   "id": "df56233d",
   "metadata": {},
   "outputs": [],
   "source": [
    "poly = PolynomialFeatures(degree=2, include_bias=False)"
   ]
  },
  {
   "cell_type": "code",
   "execution_count": 35,
   "id": "2a6ec459",
   "metadata": {},
   "outputs": [],
   "source": [
    "X_poly = poly.fit_transform(X)\n",
    "X_train, X_test, y_train, y_test = train_test_split(X_poly, y, test_size=0.2, random_state=42)\n"
   ]
  },
  {
   "cell_type": "markdown",
   "id": "e42f4ec2",
   "metadata": {},
   "source": [
    "# Create a Linear Regression model and fit the data"
   ]
  },
  {
   "cell_type": "code",
   "execution_count": 36,
   "id": "25848cc6",
   "metadata": {},
   "outputs": [
    {
     "data": {
      "text/plain": [
       "LinearRegression()"
      ]
     },
     "execution_count": 36,
     "metadata": {},
     "output_type": "execute_result"
    }
   ],
   "source": [
    "lin_reg = LinearRegression()\n",
    "lin_reg.fit(X_train, y_train)"
   ]
  },
  {
   "cell_type": "markdown",
   "id": "fe8ea4df",
   "metadata": {},
   "source": [
    "# Make predictions and Evaluate the model"
   ]
  },
  {
   "cell_type": "code",
   "execution_count": 37,
   "id": "c03d1891",
   "metadata": {},
   "outputs": [
    {
     "name": "stdout",
     "output_type": "stream",
     "text": [
      "R-squared: 0.9658753424811731\n",
      "MSE: 0.0005358043411401115\n"
     ]
    }
   ],
   "source": [
    "y_pred = lin_reg.predict(X_test)\n",
    "\n",
    "print('R-squared:', r2_score(y_test, y_pred))\n",
    "print('MSE:', mean_squared_error(y_test, y_pred))"
   ]
  },
  {
   "cell_type": "code",
   "execution_count": null,
   "id": "2834b830",
   "metadata": {},
   "outputs": [],
   "source": []
  }
 ],
 "metadata": {
  "kernelspec": {
   "display_name": "Python 3 (ipykernel)",
   "language": "python",
   "name": "python3"
  },
  "language_info": {
   "codemirror_mode": {
    "name": "ipython",
    "version": 3
   },
   "file_extension": ".py",
   "mimetype": "text/x-python",
   "name": "python",
   "nbconvert_exporter": "python",
   "pygments_lexer": "ipython3",
   "version": "3.9.7"
  }
 },
 "nbformat": 4,
 "nbformat_minor": 5
}
